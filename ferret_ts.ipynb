{
 "cells": [
  {
   "cell_type": "markdown",
   "metadata": {},
   "source": [
    "Script to extract ferret timeseries data into two columns of numbers"
   ]
  },
  {
   "cell_type": "code",
   "execution_count": 1,
   "metadata": {
    "collapsed": true
   },
   "outputs": [],
   "source": [
    "import pandas as pd\n",
    "import os\n",
    "import collections\n",
    "\n",
    "# For bokeh plots\n",
    "import bokeh #0.12.3\n",
    "from bokeh.plotting import figure\n",
    "from datetime import datetime as dt\n",
    "from bokeh.models import DatetimeTickFormatter\n",
    "from math import pi\n"
   ]
  },
  {
   "cell_type": "code",
   "execution_count": 2,
   "metadata": {
    "collapsed": false
   },
   "outputs": [],
   "source": [
    "# Read all csv files and create a dataframe from selected year and selected fields\n",
    "# df = pd.DataFrame()\n",
    "# for key in dict_files.keys():\n",
    "#     df_full = pd.read_csv('files_csv/' + dict_files[key], delimiter=';', index_col=0)\n",
    "#     df_select = df_full.loc[year][list_fields]\n",
    "#     df_select['Source'] = key\n",
    "#     df = df.append(df_select)\n",
    "# df.set_index('Source', inplace=True)\n",
    "# df"
   ]
  },
  {
   "cell_type": "code",
   "execution_count": 15,
   "metadata": {
    "collapsed": false
   },
   "outputs": [
    {
     "data": {
      "text/html": [
       "<div>\n",
       "<table border=\"1\" class=\"dataframe\">\n",
       "  <thead>\n",
       "    <tr style=\"text-align: right;\">\n",
       "      <th></th>\n",
       "      <th>ZONAL WIND (M/S)</th>\n",
       "    </tr>\n",
       "    <tr>\n",
       "      <th>VARIABLE</th>\n",
       "      <th></th>\n",
       "    </tr>\n",
       "  </thead>\n",
       "  <tbody>\n",
       "    <tr>\n",
       "      <th>FILENAME</th>\n",
       "      <td>monthly_navy_winds.cdf</td>\n",
       "    </tr>\n",
       "    <tr>\n",
       "      <th>FILEPATH</th>\n",
       "      <td>/homel/cnangini/.conda/envs/FERRET/share/fer_...</td>\n",
       "    </tr>\n",
       "    <tr>\n",
       "      <th>SUBSET</th>\n",
       "      <td>132 points (TIME)</td>\n",
       "    </tr>\n",
       "    <tr>\n",
       "      <th>LONGITUDE</th>\n",
       "      <td>110.4W(-110.4) to 30.2E(30.2) (XY ave)</td>\n",
       "    </tr>\n",
       "    <tr>\n",
       "      <th>LATITUDE</th>\n",
       "      <td>70.3S to 70.3N (XY ave)</td>\n",
       "    </tr>\n",
       "    <tr>\n",
       "      <th>16-JAN-1982 /   1</th>\n",
       "      <td>0.1973</td>\n",
       "    </tr>\n",
       "    <tr>\n",
       "      <th>16-FEB-1982 /   2</th>\n",
       "      <td>0.3922</td>\n",
       "    </tr>\n",
       "    <tr>\n",
       "      <th>18-MAR-1982 /   3</th>\n",
       "      <td>0.1530</td>\n",
       "    </tr>\n",
       "    <tr>\n",
       "      <th>18-APR-1982 /   4</th>\n",
       "      <td>0.2385</td>\n",
       "    </tr>\n",
       "    <tr>\n",
       "      <th>18-MAY-1982 /   5</th>\n",
       "      <td>0.0239</td>\n",
       "    </tr>\n",
       "  </tbody>\n",
       "</table>\n",
       "</div>"
      ],
      "text/plain": [
       "                                                         ZONAL WIND (M/S)\n",
       "             VARIABLE                                                    \n",
       "             FILENAME                              monthly_navy_winds.cdf\n",
       "             FILEPATH    /homel/cnangini/.conda/envs/FERRET/share/fer_...\n",
       "             SUBSET                                     132 points (TIME)\n",
       "             LONGITUDE             110.4W(-110.4) to 30.2E(30.2) (XY ave)\n",
       "             LATITUDE                             70.3S to 70.3N (XY ave)\n",
       " 16-JAN-1982 /   1                                                 0.1973\n",
       " 16-FEB-1982 /   2                                                 0.3922\n",
       " 18-MAR-1982 /   3                                                 0.1530\n",
       " 18-APR-1982 /   4                                                 0.2385\n",
       " 18-MAY-1982 /   5                                                 0.0239"
      ]
     },
     "execution_count": 15,
     "metadata": {},
     "output_type": "execute_result"
    }
   ],
   "source": [
    "# Read csv file output by ferret\n",
    "\n",
    "df_orig = pd.read_csv('timeseries.csv', delimiter=':', index_col=0)\n",
    "#df.set_index('Source', inplace=True)\n",
    "df_orig.head(10)"
   ]
  },
  {
   "cell_type": "code",
   "execution_count": 16,
   "metadata": {
    "collapsed": false
   },
   "outputs": [
    {
     "data": {
      "text/html": [
       "<div>\n",
       "<table border=\"1\" class=\"dataframe\">\n",
       "  <thead>\n",
       "    <tr style=\"text-align: right;\">\n",
       "      <th></th>\n",
       "      <th>LATITUDE</th>\n",
       "      <th>70.3S to 70.3N (XY ave)</th>\n",
       "    </tr>\n",
       "  </thead>\n",
       "  <tbody>\n",
       "    <tr>\n",
       "      <th>0</th>\n",
       "      <td>16-JAN-1982 /   1</td>\n",
       "      <td>0.1973</td>\n",
       "    </tr>\n",
       "    <tr>\n",
       "      <th>1</th>\n",
       "      <td>16-FEB-1982 /   2</td>\n",
       "      <td>0.3922</td>\n",
       "    </tr>\n",
       "    <tr>\n",
       "      <th>2</th>\n",
       "      <td>18-MAR-1982 /   3</td>\n",
       "      <td>0.1530</td>\n",
       "    </tr>\n",
       "    <tr>\n",
       "      <th>3</th>\n",
       "      <td>18-APR-1982 /   4</td>\n",
       "      <td>0.2385</td>\n",
       "    </tr>\n",
       "    <tr>\n",
       "      <th>4</th>\n",
       "      <td>18-MAY-1982 /   5</td>\n",
       "      <td>0.0239</td>\n",
       "    </tr>\n",
       "  </tbody>\n",
       "</table>\n",
       "</div>"
      ],
      "text/plain": [
       "               LATITUDE    70.3S to 70.3N (XY ave)\n",
       "0      16-JAN-1982 /   1                    0.1973\n",
       "1      16-FEB-1982 /   2                    0.3922\n",
       "2      18-MAR-1982 /   3                    0.1530\n",
       "3      18-APR-1982 /   4                    0.2385\n",
       "4      18-MAY-1982 /   5                    0.0239"
      ]
     },
     "execution_count": 16,
     "metadata": {},
     "output_type": "execute_result"
    }
   ],
   "source": [
    "# Read csv file output by ferret, skipping header\n",
    "df_full = pd.read_csv('timeseries.csv', delimiter=':', skiprows=5)\n",
    "#df.set_index('Source', inplace=True)\n",
    "df_full.head(5)"
   ]
  },
  {
   "cell_type": "code",
   "execution_count": 17,
   "metadata": {
    "collapsed": false
   },
   "outputs": [
    {
     "data": {
      "text/plain": [
       "0     16-JAN-1982 /   1\n",
       "1     16-FEB-1982 /   2\n",
       "2     18-MAR-1982 /   3\n",
       "3     18-APR-1982 /   4\n",
       "4     18-MAY-1982 /   5\n",
       "Name:              LATITUDE , dtype: object"
      ]
     },
     "execution_count": 17,
     "metadata": {},
     "output_type": "execute_result"
    }
   ],
   "source": [
    "#Extract date string from col 0\n",
    "s = df_full.ix[:, 0]\n",
    "s.head(5)"
   ]
  },
  {
   "cell_type": "code",
   "execution_count": 18,
   "metadata": {
    "collapsed": false
   },
   "outputs": [],
   "source": [
    "# x_tmp = s.str.split(' /').str.get(0)\n",
    "# x_tmp.head(5)"
   ]
  },
  {
   "cell_type": "code",
   "execution_count": 19,
   "metadata": {
    "collapsed": false
   },
   "outputs": [
    {
     "data": {
      "text/plain": [
       "0    16-JAN-1982\n",
       "1    16-FEB-1982\n",
       "2    18-MAR-1982\n",
       "3    18-APR-1982\n",
       "4    18-MAY-1982\n",
       "dtype: object"
      ]
     },
     "execution_count": 19,
     "metadata": {},
     "output_type": "execute_result"
    }
   ],
   "source": [
    "x = s.str.split(' /').str.get(0).str.split(' ').str.get(1)\n",
    "x.head(5)"
   ]
  },
  {
   "cell_type": "code",
   "execution_count": 8,
   "metadata": {
    "collapsed": false
   },
   "outputs": [
    {
     "data": {
      "text/plain": [
       "'16-JAN-1982'"
      ]
     },
     "execution_count": 8,
     "metadata": {},
     "output_type": "execute_result"
    }
   ],
   "source": [
    "x[0]"
   ]
  },
  {
   "cell_type": "code",
   "execution_count": 47,
   "metadata": {
    "collapsed": false
   },
   "outputs": [
    {
     "data": {
      "text/plain": [
       "0   1982-01-16\n",
       "1   1982-02-16\n",
       "2   1982-03-18\n",
       "3   1982-04-18\n",
       "4   1982-05-18\n",
       "dtype: datetime64[ns]"
      ]
     },
     "execution_count": 47,
     "metadata": {},
     "output_type": "execute_result"
    }
   ],
   "source": [
    "x_date = pd.to_datetime(x,infer_datetime_format=True)\n",
    "x_date.head(5)"
   ]
  },
  {
   "cell_type": "code",
   "execution_count": 20,
   "metadata": {
    "collapsed": false
   },
   "outputs": [
    {
     "data": {
      "text/plain": [
       "0    0.1973\n",
       "1    0.3922\n",
       "2    0.1530\n",
       "3    0.2385\n",
       "4    0.0239\n",
       "Name:  70.3S to 70.3N (XY ave), dtype: float64"
      ]
     },
     "execution_count": 20,
     "metadata": {},
     "output_type": "execute_result"
    }
   ],
   "source": [
    "# Define y values\n",
    "y = df_full.ix[:, 1]\n",
    "y.head(5)"
   ]
  },
  {
   "cell_type": "code",
   "execution_count": 48,
   "metadata": {
    "collapsed": false
   },
   "outputs": [
    {
     "data": {
      "text/html": [
       "<div>\n",
       "<table border=\"1\" class=\"dataframe\">\n",
       "  <thead>\n",
       "    <tr style=\"text-align: right;\">\n",
       "      <th></th>\n",
       "      <th>date</th>\n",
       "      <th>value</th>\n",
       "    </tr>\n",
       "  </thead>\n",
       "  <tbody>\n",
       "    <tr>\n",
       "      <th>0</th>\n",
       "      <td>1982-01-16</td>\n",
       "      <td>0.1973</td>\n",
       "    </tr>\n",
       "    <tr>\n",
       "      <th>1</th>\n",
       "      <td>1982-02-16</td>\n",
       "      <td>0.3922</td>\n",
       "    </tr>\n",
       "    <tr>\n",
       "      <th>2</th>\n",
       "      <td>1982-03-18</td>\n",
       "      <td>0.1530</td>\n",
       "    </tr>\n",
       "    <tr>\n",
       "      <th>3</th>\n",
       "      <td>1982-04-18</td>\n",
       "      <td>0.2385</td>\n",
       "    </tr>\n",
       "    <tr>\n",
       "      <th>4</th>\n",
       "      <td>1982-05-18</td>\n",
       "      <td>0.0239</td>\n",
       "    </tr>\n",
       "  </tbody>\n",
       "</table>\n",
       "</div>"
      ],
      "text/plain": [
       "        date   value\n",
       "0 1982-01-16  0.1973\n",
       "1 1982-02-16  0.3922\n",
       "2 1982-03-18  0.1530\n",
       "3 1982-04-18  0.2385\n",
       "4 1982-05-18  0.0239"
      ]
     },
     "execution_count": 48,
     "metadata": {},
     "output_type": "execute_result"
    }
   ],
   "source": [
    "# Put x and y values in dataframe\n",
    "dfer = pd.DataFrame()\n",
    "dfer['date'] = x_date\n",
    "dfer['value'] = y\n",
    "dfer.head(5)"
   ]
  },
  {
   "cell_type": "code",
   "execution_count": 49,
   "metadata": {
    "collapsed": false
   },
   "outputs": [],
   "source": [
    "# dfer['date'] =  pd.to_datetime(dfer['date'], format='%d%b%Y:%H:%M:%S.%f')"
   ]
  },
  {
   "cell_type": "code",
   "execution_count": 56,
   "metadata": {
    "collapsed": false
   },
   "outputs": [
    {
     "data": {
      "text/plain": [
       "0   1982-01-16\n",
       "1   1982-02-16\n",
       "2   1982-03-18\n",
       "3   1982-04-18\n",
       "4   1982-05-18\n",
       "Name: date, dtype: datetime64[ns]"
      ]
     },
     "execution_count": 56,
     "metadata": {},
     "output_type": "execute_result"
    }
   ],
   "source": [
    "dfer['date'].head(5)\n"
   ]
  },
  {
   "cell_type": "code",
   "execution_count": 60,
   "metadata": {
    "collapsed": false
   },
   "outputs": [],
   "source": [
    "p = figure(title='A Bokeh plot',\n",
    "        plot_width=700,plot_height=400)"
   ]
  },
  {
   "cell_type": "code",
   "execution_count": 61,
   "metadata": {
    "collapsed": false
   },
   "outputs": [
    {
     "data": {
      "text/plain": [
       "<bokeh.models.renderers.GlyphRenderer at 0x7fa478876990>"
      ]
     },
     "execution_count": 61,
     "metadata": {},
     "output_type": "execute_result"
    }
   ],
   "source": [
    "p.line(dfer['date'], dfer['value'])"
   ]
  },
  {
   "cell_type": "code",
   "execution_count": 62,
   "metadata": {
    "collapsed": false
   },
   "outputs": [],
   "source": [
    "p.xaxis.formatter=DatetimeTickFormatter(formats=dict(\n",
    "        hours=[\"%d %B %Y\"],\n",
    "        days=[\"%d %B %Y\"],\n",
    "        months=[\"%d %B %Y\"],\n",
    "        years=[\"%d %B %Y\"],\n",
    "    ))\n",
    "p.xaxis.major_label_orientation = pi/4\n",
    "p.yaxis.axis_label = \"size\"\n"
   ]
  },
  {
   "cell_type": "code",
   "execution_count": 63,
   "metadata": {
    "collapsed": false
   },
   "outputs": [
    {
     "name": "stderr",
     "output_type": "stream",
     "text": [
      "ERROR:/usr/lib/python2.7/site-packages/bokeh/core/validation/check.pyc:W-1001 (NO_DATA_RENDERERS): Plot has no data renderers: Figure, ViewModel:Plot, ref _id: 132c3c79-0a8e-44d7-8e24-20afbd24945c\n"
     ]
    }
   ],
   "source": [
    "# For plotting in notebook\n",
    "from bokeh.io import output_file\n",
    "from bokeh.charts import show\n",
    "from bokeh.models import DatetimeTickFormatter\n",
    "\n",
    "output_file('myplot2.html')\n",
    "show(p)"
   ]
  },
  {
   "cell_type": "code",
   "execution_count": null,
   "metadata": {
    "collapsed": true
   },
   "outputs": [],
   "source": []
  },
  {
   "cell_type": "code",
   "execution_count": 29,
   "metadata": {
    "collapsed": false
   },
   "outputs": [
    {
     "name": "stderr",
     "output_type": "stream",
     "text": [
      "ERROR:/usr/lib/python2.7/site-packages/bokeh/core/validation/check.pyc:W-1001 (NO_DATA_RENDERERS): Plot has no data renderers: Figure, ViewModel:Plot, ref _id: 132c3c79-0a8e-44d7-8e24-20afbd24945c\n"
     ]
    }
   ],
   "source": [
    "# http://stackoverflow.com/questions/33869292/how-can-i-set-the-x-axis-as-datetimes-on-a-bokeh-plot\n",
    "import pandas as pd\n",
    "from math import pi\n",
    "from datetime import datetime as dt\n",
    "from bokeh.io import output_file\n",
    "from bokeh.charts import show\n",
    "from bokeh.models import DatetimeTickFormatter\n",
    "from bokeh.plotting import figure\n",
    "\n",
    "df = pd.DataFrame(data=[1,2,3],\n",
    "                  index=[dt(2015, 1, 1), dt(2015, 1, 2), dt(2015, 1, 3)],\n",
    "                  columns=['foo'])\n",
    "p_test = figure(plot_width=400, plot_height=400)\n",
    "p_test.line(df.index, df['foo'])\n",
    "p_test.xaxis.formatter=DatetimeTickFormatter(formats=dict(\n",
    "        hours=[\"%d %B %Y\"],\n",
    "        days=[\"%d %B %Y\"],\n",
    "        months=[\"%d %B %Y\"],\n",
    "        years=[\"%d %B %Y\"],\n",
    "    ))\n",
    "p_test.xaxis.major_label_orientation = pi/4\n",
    "output_file('myplot.html')\n",
    "show(p_test)"
   ]
  },
  {
   "cell_type": "code",
   "execution_count": 95,
   "metadata": {
    "collapsed": false
   },
   "outputs": [
    {
     "data": {
      "text/plain": [
       "DatetimeIndex(['2015-01-01', '2015-01-02', '2015-01-03'], dtype='datetime64[ns]', freq=None, tz=None)"
      ]
     },
     "execution_count": 95,
     "metadata": {},
     "output_type": "execute_result"
    }
   ],
   "source": [
    "df.index"
   ]
  },
  {
   "cell_type": "code",
   "execution_count": 118,
   "metadata": {
    "collapsed": false
   },
   "outputs": [
    {
     "data": {
      "text/plain": [
       "2015-01-01    1\n",
       "2015-01-02    2\n",
       "2015-01-03    3\n",
       "Name: foo, dtype: int64"
      ]
     },
     "execution_count": 118,
     "metadata": {},
     "output_type": "execute_result"
    }
   ],
   "source": [
    "df['foo']"
   ]
  },
  {
   "cell_type": "code",
   "execution_count": 30,
   "metadata": {
    "collapsed": false
   },
   "outputs": [
    {
     "data": {
      "text/plain": [
       "<bokeh.models.renderers.GlyphRenderer at 0x7fa478885b90>"
      ]
     },
     "execution_count": 30,
     "metadata": {},
     "output_type": "execute_result"
    }
   ],
   "source": [
    "p_test.line(df.index, df['foo'])"
   ]
  },
  {
   "cell_type": "code",
   "execution_count": null,
   "metadata": {
    "collapsed": true
   },
   "outputs": [],
   "source": []
  }
 ],
 "metadata": {
  "kernelspec": {
   "display_name": "Python 2",
   "language": "python",
   "name": "python2"
  },
  "language_info": {
   "codemirror_mode": {
    "name": "ipython",
    "version": 2
   },
   "file_extension": ".py",
   "mimetype": "text/x-python",
   "name": "python",
   "nbconvert_exporter": "python",
   "pygments_lexer": "ipython2",
   "version": "2.7.10"
  }
 },
 "nbformat": 4,
 "nbformat_minor": 0
}
