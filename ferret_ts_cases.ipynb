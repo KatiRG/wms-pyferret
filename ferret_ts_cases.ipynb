{
 "cells": [
  {
   "cell_type": "markdown",
   "metadata": {},
   "source": [
    "Script to extract ferret timeseries data into two columns of numbers.\n",
    "Handles files with and without dates for x-values"
   ]
  },
  {
   "cell_type": "code",
   "execution_count": 1,
   "metadata": {
    "collapsed": true
   },
   "outputs": [],
   "source": [
    "import pandas as pd\n",
    "\n",
    "# For bokeh plots\n",
    "import bokeh #0.12.3\n",
    "from bokeh.plotting import figure\n",
    "from datetime import datetime as dt\n",
    "from bokeh.models import DatetimeTickFormatter\n",
    "from math import pi\n"
   ]
  },
  {
   "cell_type": "code",
   "execution_count": 3,
   "metadata": {
    "collapsed": false
   },
   "outputs": [
    {
     "data": {
      "text/html": [
       "<div>\n",
       "<table border=\"1\" class=\"dataframe\">\n",
       "  <thead>\n",
       "    <tr style=\"text-align: right;\">\n",
       "      <th></th>\n",
       "      <th>TEMPERATURE (DEG C)</th>\n",
       "    </tr>\n",
       "    <tr>\n",
       "      <th>VARIABLE</th>\n",
       "      <th></th>\n",
       "    </tr>\n",
       "  </thead>\n",
       "  <tbody>\n",
       "    <tr>\n",
       "      <th>FILENAME</th>\n",
       "      <td>levitus_climatology.cdf</td>\n",
       "    </tr>\n",
       "    <tr>\n",
       "      <th>FILEPATH</th>\n",
       "      <td>/homel/cnangini/.conda/envs/FERRET/share/fer_...</td>\n",
       "    </tr>\n",
       "    <tr>\n",
       "      <th>SUBSET</th>\n",
       "      <td>20 points (DEPTH (m))</td>\n",
       "    </tr>\n",
       "    <tr>\n",
       "      <th>LONGITUDE</th>\n",
       "      <td>110.4W(-110.4) to 30.2E(30.2) (XY ave)</td>\n",
       "    </tr>\n",
       "    <tr>\n",
       "      <th>LATITUDE</th>\n",
       "      <td>70.3S to 70.3N (XY ave)</td>\n",
       "    </tr>\n",
       "    <tr>\n",
       "      <th>0       /  1</th>\n",
       "      <td>17.32</td>\n",
       "    </tr>\n",
       "    <tr>\n",
       "      <th>10      /  2</th>\n",
       "      <td>17.25</td>\n",
       "    </tr>\n",
       "    <tr>\n",
       "      <th>20      /  3</th>\n",
       "      <td>17.07</td>\n",
       "    </tr>\n",
       "    <tr>\n",
       "      <th>30      /  4</th>\n",
       "      <td>16.76</td>\n",
       "    </tr>\n",
       "    <tr>\n",
       "      <th>50      /  5</th>\n",
       "      <td>15.84</td>\n",
       "    </tr>\n",
       "  </tbody>\n",
       "</table>\n",
       "</div>"
      ],
      "text/plain": [
       "                                                      TEMPERATURE (DEG C)\n",
       "             VARIABLE                                                    \n",
       "             FILENAME                             levitus_climatology.cdf\n",
       "             FILEPATH    /homel/cnangini/.conda/envs/FERRET/share/fer_...\n",
       "             SUBSET                                 20 points (DEPTH (m))\n",
       "             LONGITUDE             110.4W(-110.4) to 30.2E(30.2) (XY ave)\n",
       "             LATITUDE                             70.3S to 70.3N (XY ave)\n",
       " 0       /  1                                                       17.32\n",
       " 10      /  2                                                       17.25\n",
       " 20      /  3                                                       17.07\n",
       " 30      /  4                                                       16.76\n",
       " 50      /  5                                                       15.84"
      ]
     },
     "execution_count": 3,
     "metadata": {},
     "output_type": "execute_result"
    }
   ],
   "source": [
    "# Read csv file output by ferret\n",
    "\n",
    "df_orig = pd.read_csv('levitus.csv', delimiter=':', index_col=0)\n",
    "df_orig.head(10)"
   ]
  },
  {
   "cell_type": "code",
   "execution_count": 31,
   "metadata": {
    "collapsed": false,
    "scrolled": true
   },
   "outputs": [
    {
     "data": {
      "text/html": [
       "<div>\n",
       "<table border=\"1\" class=\"dataframe\">\n",
       "  <thead>\n",
       "    <tr style=\"text-align: right;\">\n",
       "      <th></th>\n",
       "      <th>LATITUDE</th>\n",
       "      <th>70.3S to 70.3N (XY ave)</th>\n",
       "    </tr>\n",
       "  </thead>\n",
       "  <tbody>\n",
       "    <tr>\n",
       "      <th>0</th>\n",
       "      <td>0       /  1</td>\n",
       "      <td>17.32</td>\n",
       "    </tr>\n",
       "    <tr>\n",
       "      <th>1</th>\n",
       "      <td>10      /  2</td>\n",
       "      <td>17.25</td>\n",
       "    </tr>\n",
       "    <tr>\n",
       "      <th>2</th>\n",
       "      <td>20      /  3</td>\n",
       "      <td>17.07</td>\n",
       "    </tr>\n",
       "    <tr>\n",
       "      <th>3</th>\n",
       "      <td>30      /  4</td>\n",
       "      <td>16.76</td>\n",
       "    </tr>\n",
       "    <tr>\n",
       "      <th>4</th>\n",
       "      <td>50      /  5</td>\n",
       "      <td>15.84</td>\n",
       "    </tr>\n",
       "  </tbody>\n",
       "</table>\n",
       "</div>"
      ],
      "text/plain": [
       "               LATITUDE    70.3S to 70.3N (XY ave)\n",
       "0           0       /  1                     17.32\n",
       "1           10      /  2                     17.25\n",
       "2           20      /  3                     17.07\n",
       "3           30      /  4                     16.76\n",
       "4           50      /  5                     15.84"
      ]
     },
     "execution_count": 31,
     "metadata": {},
     "output_type": "execute_result"
    }
   ],
   "source": [
    "# Read csv file output by ferret, skipping header\n",
    "df = pd.read_csv('levitus.csv', delimiter=':', skiprows=5)\n",
    "df.head(5)"
   ]
  },
  {
   "cell_type": "code",
   "execution_count": 32,
   "metadata": {
    "collapsed": false,
    "scrolled": true
   },
   "outputs": [
    {
     "data": {
      "text/plain": [
       "0     0       /  1\n",
       "1     10      /  2\n",
       "2     20      /  3\n",
       "3     30      /  4\n",
       "4     50      /  5\n",
       "Name:              LATITUDE , dtype: object"
      ]
     },
     "execution_count": 32,
     "metadata": {},
     "output_type": "execute_result"
    }
   ],
   "source": [
    "#Extract date string from col 0\n",
    "s = df.ix[:, 0]\n",
    "s.head(5)"
   ]
  },
  {
   "cell_type": "code",
   "execution_count": 33,
   "metadata": {
    "collapsed": false,
    "scrolled": true
   },
   "outputs": [
    {
     "data": {
      "text/plain": [
       "0     0\n",
       "1    10\n",
       "2    20\n",
       "3    30\n",
       "4    50\n",
       "dtype: object"
      ]
     },
     "execution_count": 33,
     "metadata": {},
     "output_type": "execute_result"
    }
   ],
   "source": [
    "x = s.str.split(' /').str.get(0).str.split(' ').str.get(1)\n",
    "x.head(5)"
   ]
  },
  {
   "cell_type": "code",
   "execution_count": 34,
   "metadata": {
    "collapsed": false
   },
   "outputs": [
    {
     "name": "stdout",
     "output_type": "stream",
     "text": [
      "0\n"
     ]
    }
   ],
   "source": [
    "# Determine if x-col is a list of dates\n",
    "months=['JAN', 'FEB', 'MAR', 'APR', 'MAY', 'JUN', 'JUL', 'AUG', 'SEP', 'OCT', 'NOV', 'DEC']\n",
    "dateFlag=0\n",
    "for idx in range(12):\n",
    "    if x[0].find(months[idx]) != -1:\n",
    "        print(\"found month\")\n",
    "        dateFlag=1\n",
    "print dateFlag "
   ]
  },
  {
   "cell_type": "code",
   "execution_count": 35,
   "metadata": {
    "collapsed": false
   },
   "outputs": [
    {
     "data": {
      "text/plain": [
       "0     0\n",
       "1    10\n",
       "2    20\n",
       "3    30\n",
       "4    50\n",
       "dtype: object"
      ]
     },
     "execution_count": 35,
     "metadata": {},
     "output_type": "execute_result"
    }
   ],
   "source": [
    "if dateFlag==1:\n",
    "    x = pd.to_datetime(x,infer_datetime_format=True)\n",
    "x.head(5)"
   ]
  },
  {
   "cell_type": "code",
   "execution_count": 36,
   "metadata": {
    "collapsed": false
   },
   "outputs": [
    {
     "data": {
      "text/html": [
       "<div>\n",
       "<table border=\"1\" class=\"dataframe\">\n",
       "  <thead>\n",
       "    <tr style=\"text-align: right;\">\n",
       "      <th></th>\n",
       "      <th>xval</th>\n",
       "      <th>yval</th>\n",
       "    </tr>\n",
       "  </thead>\n",
       "  <tbody>\n",
       "    <tr>\n",
       "      <th>0</th>\n",
       "      <td>0</td>\n",
       "      <td>17.32</td>\n",
       "    </tr>\n",
       "    <tr>\n",
       "      <th>1</th>\n",
       "      <td>10</td>\n",
       "      <td>17.25</td>\n",
       "    </tr>\n",
       "    <tr>\n",
       "      <th>2</th>\n",
       "      <td>20</td>\n",
       "      <td>17.07</td>\n",
       "    </tr>\n",
       "    <tr>\n",
       "      <th>3</th>\n",
       "      <td>30</td>\n",
       "      <td>16.76</td>\n",
       "    </tr>\n",
       "    <tr>\n",
       "      <th>4</th>\n",
       "      <td>50</td>\n",
       "      <td>15.84</td>\n",
       "    </tr>\n",
       "  </tbody>\n",
       "</table>\n",
       "</div>"
      ],
      "text/plain": [
       "  xval   yval\n",
       "0    0  17.32\n",
       "1   10  17.25\n",
       "2   20  17.07\n",
       "3   30  16.76\n",
       "4   50  15.84"
      ]
     },
     "execution_count": 36,
     "metadata": {},
     "output_type": "execute_result"
    }
   ],
   "source": [
    "# Put x and y values in dataframe\n",
    "dfer = pd.DataFrame()\n",
    "dfer['xval'] = x\n",
    "dfer['yval'] = df.ix[:, 1]\n",
    "dfer.head(5)"
   ]
  },
  {
   "cell_type": "code",
   "execution_count": 37,
   "metadata": {
    "collapsed": false
   },
   "outputs": [],
   "source": [
    "p = figure(title='A Bokeh plot',\n",
    "        plot_width=700,plot_height=400)"
   ]
  },
  {
   "cell_type": "code",
   "execution_count": 38,
   "metadata": {
    "collapsed": false
   },
   "outputs": [
    {
     "data": {
      "text/plain": [
       "<bokeh.models.renderers.GlyphRenderer at 0x7f5eb914d390>"
      ]
     },
     "execution_count": 38,
     "metadata": {},
     "output_type": "execute_result"
    }
   ],
   "source": [
    "p.line(dfer['xval'], dfer['yval'])"
   ]
  },
  {
   "cell_type": "code",
   "execution_count": 39,
   "metadata": {
    "collapsed": false
   },
   "outputs": [],
   "source": [
    "if dateFlag==1:\n",
    "    p.xaxis.formatter=DatetimeTickFormatter(formats=dict(\n",
    "        hours=[\"%d %B %Y\"],\n",
    "        days=[\"%d %B %Y\"],\n",
    "        months=[\"%d %B %Y\"],\n",
    "        years=[\"%d %B %Y\"],\n",
    "    ))\n",
    "p.xaxis.major_label_orientation = pi/4\n",
    "p.yaxis.axis_label = \"size\"\n"
   ]
  },
  {
   "cell_type": "code",
   "execution_count": 40,
   "metadata": {
    "collapsed": false
   },
   "outputs": [],
   "source": [
    "# For plotting in notebook\n",
    "from bokeh.io import output_file\n",
    "from bokeh.charts import show\n",
    "from bokeh.models import DatetimeTickFormatter\n",
    "\n",
    "output_file('myplot2.html')\n",
    "show(p)"
   ]
  },
  {
   "cell_type": "code",
   "execution_count": null,
   "metadata": {
    "collapsed": true
   },
   "outputs": [],
   "source": []
  },
  {
   "cell_type": "code",
   "execution_count": null,
   "metadata": {
    "collapsed": true
   },
   "outputs": [],
   "source": []
  }
 ],
 "metadata": {
  "kernelspec": {
   "display_name": "Python 2",
   "language": "python",
   "name": "python2"
  },
  "language_info": {
   "codemirror_mode": {
    "name": "ipython",
    "version": 2
   },
   "file_extension": ".py",
   "mimetype": "text/x-python",
   "name": "python",
   "nbconvert_exporter": "python",
   "pygments_lexer": "ipython2",
   "version": "2.7.10"
  }
 },
 "nbformat": 4,
 "nbformat_minor": 0
}
